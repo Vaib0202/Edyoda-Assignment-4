{
 "cells": [
  {
   "cell_type": "markdown",
   "id": "9c1506d1",
   "metadata": {},
   "source": [
    "## Write a Python program to square the elements of a list using map() function.\n",
    "\n",
    "\n",
    ">Sample List: [4, 5, 2, 9]\n",
    "\n",
    ">Square the elements of the list: [16, 25, 4, 81]"
   ]
  },
  {
   "cell_type": "code",
   "execution_count": null,
   "id": "03e6825a",
   "metadata": {},
   "outputs": [],
   "source": [
    "l = [4, 5, 2, 9]\n",
    "def square_func(x):\n",
    "    return x*x\n",
    "list(map(square_func, l))"
   ]
  }
 ],
 "metadata": {
  "kernelspec": {
   "display_name": "Python 3 (ipykernel)",
   "language": "python",
   "name": "python3"
  },
  "language_info": {
   "codemirror_mode": {
    "name": "ipython",
    "version": 3
   },
   "file_extension": ".py",
   "mimetype": "text/x-python",
   "name": "python",
   "nbconvert_exporter": "python",
   "pygments_lexer": "ipython3",
   "version": "3.10.1"
  }
 },
 "nbformat": 4,
 "nbformat_minor": 5
}
